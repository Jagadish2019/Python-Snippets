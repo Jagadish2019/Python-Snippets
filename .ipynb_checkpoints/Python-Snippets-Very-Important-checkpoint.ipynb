{
 "cells": [
  {
   "cell_type": "markdown",
   "metadata": {},
   "source": [
    "1. All Unique\n",
    "The following method checks whether the given list has duplicate elements. It uses property of set()\n",
    "which removes duplicate elements from the list."
   ]
  },
  {
   "cell_type": "code",
   "execution_count": 1,
   "metadata": {},
   "outputs": [
    {
     "name": "stdout",
     "output_type": "stream",
     "text": [
      "False\n",
      "True\n"
     ]
    }
   ],
   "source": [
    "def all_unique(list1):\n",
    "    print(len(list1) == len(set(list1))) #set() is one of the data type in Python\n",
    "                                         # Which excludes the duplicate values => set = {}\n",
    "\n",
    "\n",
    "x = [1,2,3,4,4,4,4,5,5]\n",
    "y = [1,2,3,4,5]\n",
    "\n",
    "all_unique(x)\n",
    "all_unique(y)"
   ]
  },
  {
   "cell_type": "markdown",
   "metadata": {},
   "source": [
    "2. Anagrams\n",
    "This method can be used to check if two strings are anagrams. An anagram is a word or phrase formed\n",
    "by rearranging the letters of a different word or phrase, typically using all the original letters exactly one."
   ]
  },
  {
   "cell_type": "code",
   "execution_count": 2,
   "metadata": {},
   "outputs": [
    {
     "data": {
      "text/plain": [
       "True"
      ]
     },
     "execution_count": 2,
     "metadata": {},
     "output_type": "execute_result"
    }
   ],
   "source": [
    "from collections import Counter\n",
    "\n",
    "def anagram(first, second):\n",
    "    return Counter(first) == Counter(second)\n",
    "\n",
    "anagram(\"abcd3\", \"ac3db\")"
   ]
  },
  {
   "cell_type": "markdown",
   "metadata": {},
   "source": [
    "3. Memory\n",
    "This snippet can be used to check the memory usage of an object."
   ]
  },
  {
   "cell_type": "code",
   "execution_count": 3,
   "metadata": {},
   "outputs": [
    {
     "name": "stdout",
     "output_type": "stream",
     "text": [
      "28\n"
     ]
    }
   ],
   "source": [
    "import sys\n",
    "\n",
    "variable = 30\n",
    "print(sys.getsizeof(variable))"
   ]
  },
  {
   "cell_type": "markdown",
   "metadata": {},
   "source": [
    "4.Byte Size\n",
    "This method returns the length of a string in bytes."
   ]
  },
  {
   "cell_type": "code",
   "execution_count": 23,
   "metadata": {},
   "outputs": [
    {
     "name": "stdout",
     "output_type": "stream",
     "text": [
      "4\n",
      "11\n"
     ]
    }
   ],
   "source": [
    "def byte_size(string):\n",
    "    return (len(string.encode('utf-8')))\n",
    "\n",
    "\n",
    "a = byte_size('😀')\n",
    "b = byte_size('Hello World')\n",
    "print(a)\n",
    "print(b)"
   ]
  },
  {
   "cell_type": "markdown",
   "metadata": {},
   "source": [
    "5. Print a string n times\n",
    "\n",
    "This snippet can be used to print a string n times without having to use loops to do it."
   ]
  },
  {
   "cell_type": "code",
   "execution_count": 30,
   "metadata": {},
   "outputs": [
    {
     "name": "stdout",
     "output_type": "stream",
     "text": [
      "ProgrammingProgramming\n"
     ]
    }
   ],
   "source": [
    "n = 2\n",
    "s = \"Programming\"\n",
    "\n",
    "print(s * n) # Silly, but logic is there. You need to print multiple times. Its the logic."
   ]
  },
  {
   "cell_type": "markdown",
   "metadata": {},
   "source": [
    "6. Capitalize first letter\n",
    "\n",
    "This snippet simply uses the method title() to capitalize first letters of every word in a string."
   ]
  },
  {
   "cell_type": "code",
   "execution_count": 31,
   "metadata": {},
   "outputs": [
    {
     "name": "stdout",
     "output_type": "stream",
     "text": [
      "Programming Is An Art\n"
     ]
    }
   ],
   "source": [
    "s = \"programming is an art\"\n",
    "\n",
    "print(s.title())"
   ]
  },
  {
   "cell_type": "markdown",
   "metadata": {},
   "source": [
    "7. Chunk\n",
    "\n",
    "This method chunks a list into smaller lists of a specified size."
   ]
  },
  {
   "cell_type": "code",
   "execution_count": 39,
   "metadata": {},
   "outputs": [
    {
     "data": {
      "text/plain": [
       "[[1, 2], [3, 4], [5]]"
      ]
     },
     "execution_count": 39,
     "metadata": {},
     "output_type": "execute_result"
    }
   ],
   "source": [
    "def chunk(list, size):\n",
    "    return [list[i:i+size] for i in range(0,len(list),size)]\n",
    "\n",
    "list1 = [1,2,3,4,5]\n",
    "size1 = 2\n",
    "chunk(list1, size1)"
   ]
  },
  {
   "cell_type": "markdown",
   "metadata": {},
   "source": [
    "8. Compact\n",
    "\n",
    "This method removes falsy values ( False, None, 0 and \"\") from a list by using filter()."
   ]
  },
  {
   "cell_type": "code",
   "execution_count": 47,
   "metadata": {},
   "outputs": [
    {
     "data": {
      "text/plain": [
       "[1, 2, 3, 'a', 's', 'Jai']"
      ]
     },
     "execution_count": 47,
     "metadata": {},
     "output_type": "execute_result"
    }
   ],
   "source": [
    "def compact(list1):\n",
    "    return list(filter(None, list1))\n",
    "\n",
    "compact([0, 1, False, 2, '',3,'a','s','Jai'])"
   ]
  },
  {
   "cell_type": "markdown",
   "metadata": {},
   "source": [
    "9. Count by\n",
    "\n",
    "This snippet can be used to transpose a 2D array."
   ]
  },
  {
   "cell_type": "code",
   "execution_count": 59,
   "metadata": {},
   "outputs": [
    {
     "name": "stdout",
     "output_type": "stream",
     "text": [
      "[('a', 'c', 'e'), ('b', 'd', 'f')]\n"
     ]
    }
   ],
   "source": [
    "array = [['a','b'],['c','d'],['e','f']]\n",
    "transposed = zip(*array)\n",
    "print(list(transposed))"
   ]
  },
  {
   "cell_type": "markdown",
   "metadata": {},
   "source": [
    "10. Chained comparison\n",
    "\n",
    "You can do multiple comparisons with all kinds of operators in a single line."
   ]
  },
  {
   "cell_type": "code",
   "execution_count": 60,
   "metadata": {},
   "outputs": [
    {
     "name": "stdout",
     "output_type": "stream",
     "text": [
      "True\n",
      "False\n"
     ]
    }
   ],
   "source": [
    "a = 3\n",
    "print(2 < a < 8)\n",
    "print(1 == a < 2)"
   ]
  }
 ],
 "metadata": {
  "kernelspec": {
   "display_name": "Python 3",
   "language": "python",
   "name": "python3"
  },
  "language_info": {
   "codemirror_mode": {
    "name": "ipython",
    "version": 3
   },
   "file_extension": ".py",
   "mimetype": "text/x-python",
   "name": "python",
   "nbconvert_exporter": "python",
   "pygments_lexer": "ipython3",
   "version": "3.6.5"
  }
 },
 "nbformat": 4,
 "nbformat_minor": 2
}
